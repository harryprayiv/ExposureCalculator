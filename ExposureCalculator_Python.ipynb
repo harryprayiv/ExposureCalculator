{
 "cells": [
  {
   "cell_type": "code",
   "execution_count": 31,
   "metadata": {},
   "outputs": [
    {
     "name": "stdout",
     "output_type": "stream",
     "text": [
      "6.877744249949002\n"
     ]
    }
   ],
   "source": [
    "import math\n",
    "import fractions\n",
    "\n",
    "def lVtoLux(lV): #working\n",
    "    return ((pow(lV, 2))*2.5)\n",
    "\n",
    "def lVtoFC(lV): #working\n",
    "    return (((pow(lV, 2))*2.5)/10.76)\n",
    "\n",
    "def lVtoLumens(lV): #working\n",
    "    return ((pow(lV, 2))*2.5)\n",
    "\n",
    "\n",
    "def stopCalc(lV, iSO, shutterTime): # calculate T-Stop\n",
    "    return((math.sqrt(((math.pow(2, lV))*(iSO*shutterTime))/100.0)*100.0)/100.0)\n",
    "\n",
    "def shutterCalc(lV, aperture, iSO): # calculate shutter speed in fractions of a second\n",
    "    return(Fraction((100*(math.pow(aperture, 2)) / (math.pow(2, lV)))/iSO).limit_denominator(8000))\n",
    "\n",
    "def iSOCalc(lV, aperture, shutterTime): # calculate EV/LV/Lux \n",
    "    return((100*((math.pow(aperture, 2))) / (math.pow(2, lV))/shutterTime))\n",
    "\n",
    "def lvCalc(aperture, iSO, shutterTime): # calculate EV/LV/Lux\n",
    "    return(math.log2((100*(pow(aperture,2)))/(iSO*(shutterTime))))\n",
    "\n",
    "def fcCalc(aperture, iSO, shutterTime): # calculate Footcandles\n",
    "    return(lVtoFC(math.log2((100*(pow(aperture,2)))/(iSO*(shutterTime)))))\n",
    "\n",
    "lV = lvCalc(2.8, 320, 1/48)\n",
    "print(lV)"
   ]
  },
  {
   "cell_type": "code",
   "execution_count": 17,
   "metadata": {
    "scrolled": true
   },
   "outputs": [
    {
     "name": "stdout",
     "output_type": "stream",
     "text": [
      "2.8\n"
     ]
    }
   ],
   "source": [
    "print(stopCalc(lV, 320, 1/48))"
   ]
  },
  {
   "cell_type": "code",
   "execution_count": 18,
   "metadata": {},
   "outputs": [
    {
     "name": "stdout",
     "output_type": "stream",
     "text": [
      "320.00000000000006\n"
     ]
    }
   ],
   "source": [
    "print(iSOCalc(lV, 2.8, 1/48))"
   ]
  },
  {
   "cell_type": "code",
   "execution_count": 35,
   "metadata": {},
   "outputs": [
    {
     "name": "stdout",
     "output_type": "stream",
     "text": [
      "1/48\n"
     ]
    }
   ],
   "source": [
    "print(shutterCalc(lV, 2.8, 320))"
   ]
  },
  {
   "cell_type": "code",
   "execution_count": 34,
   "metadata": {},
   "outputs": [
    {
     "name": "stdout",
     "output_type": "stream",
     "text": [
      "14.0\n"
     ]
    }
   ],
   "source": [
    "print(lvCalc(64, 1200, 1/48))"
   ]
  },
  {
   "cell_type": "code",
   "execution_count": 37,
   "metadata": {},
   "outputs": [
    {
     "name": "stdout",
     "output_type": "stream",
     "text": [
      "45.53903345724907\n"
     ]
    }
   ],
   "source": [
    "print(fcCalc(64, 1200, 1/48))"
   ]
  },
  {
   "cell_type": "code",
   "execution_count": null,
   "metadata": {
    "collapsed": true
   },
   "outputs": [],
   "source": []
  }
 ],
 "metadata": {
  "kernelspec": {
   "display_name": "Python 3",
   "language": "python",
   "name": "python3"
  },
  "language_info": {
   "codemirror_mode": {
    "name": "ipython",
    "version": 3
   },
   "file_extension": ".py",
   "mimetype": "text/x-python",
   "name": "python",
   "nbconvert_exporter": "python",
   "pygments_lexer": "ipython3",
   "version": "3.6.1"
  }
 },
 "nbformat": 4,
 "nbformat_minor": 2
}
